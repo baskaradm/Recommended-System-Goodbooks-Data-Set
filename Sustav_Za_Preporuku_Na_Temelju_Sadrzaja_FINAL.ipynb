{
 "cells": [
  {
   "cell_type": "markdown",
   "metadata": {},
   "source": [
    "# Preporuka knjiga pomoću sadržajno baziranog filtriranja"
   ]
  },
  {
   "cell_type": "markdown",
   "metadata": {},
   "source": [
    "## Goodbooks skup podataka\n",
    "\n",
    "Skup podataka koji će se koristiti za izradu sustava preporuke je Goodbooks. Verzija s kojom se radi je [goodbooks-10k](http://fastml.com/goodbooks-10k-a-new-dataset-for-book-recommendations/) i objavljena je 29.11.2017. na stranici [FastML ](http://fastml.com/) i sadrži 6000000 ocjena za 10000 najpopularnijih knjiga (s najviše ocjena) koju je napravilo 53424 korisnika. Svi korisnici su napravili najmanje dvije ocjene. Srednji broj ocjena po korisniku je 8. Općenito, imamo oko 100 recenzija za svaku knjigu. Fast ML je stranica koja je zamišljena da se bavi zanimljivim temama u strojnom učenju, a da to istovremeno bude zabavno i lako za čitanje i razumijevanje. \n",
    "\n",
    "Stranica s koje su podaci prikupljeni je kako se navodi slična stranici Goodreads koja je inače najveća stranica na svijetu za čitatelje i preporuku knjiga. Stranica je krenula s radom 2007. Na navedenoj stranici možete vidjeti koje su knjige vaši prijatelji čitali, pratiti knjige koje čitate, koje ste pročitali i želite pročitati te možete pogledati svoje prilagođene preporuke knjiga.\n",
    "\n",
    "Izvorni podaci se nalaze u csv. datotekama u  **books.csv, ratings.csv, book_tags, tags, to_read**."
   ]
  },
  {
   "cell_type": "markdown",
   "metadata": {},
   "source": [
    "## Najava korištenja potrebnih biblioteka\n",
    "\n",
    "Uključivanje i opis potrebnih  Python biblioteka koje će se koristiti u notebooku."
   ]
  },
  {
   "cell_type": "code",
   "execution_count": 2,
   "metadata": {},
   "outputs": [],
   "source": [
    "# Numpy\n",
    "# Služi za znanstveno računanje\n",
    "import numpy as np\n",
    "# Pandas služi na primjer za import i export podataka u različitim formatima\n",
    "# (csv, txt, Excel, itd,...)\n",
    "import pandas as pd \n",
    "# Os\n",
    "# Glavna svrha os modula je interakcija s operativnim sustavom, odnosno os  \n",
    "# omogućuje funkcije za interakciju s operativnim sustavom\n",
    "import os \n",
    "# Pomoću ove naredbe se graf prikazuje ispod koda unutar notebooka\n",
    "%matplotlib inline \n",
    "# Matplotlib \n",
    "# Matplotlib je biblioteka u Pythonu za vizualizaciju podataka, pyplot je \n",
    "# modul unutar matplot biblioteke, a plt alias za pyplot\n",
    "import matplotlib.pyplot as plt\n",
    "# Warnings\n",
    "# Ovom naredbom se omogućuje da bilo koje greške na koje program bude nailazio\n",
    "# ne ispisuju\n",
    "import warnings \n",
    "warnings.filterwarnings(\"ignore\")"
   ]
  },
  {
   "cell_type": "markdown",
   "metadata": {},
   "source": [
    "## Učitavanje podataka\n",
    "Ovdje ćemo učitati csv. datoteke iz Goodbooks skupa podataka te pogledati sadržaj svake od datoteka kako bi pružili bolji uvid u podatke."
   ]
  },
  {
   "cell_type": "code",
   "execution_count": 3,
   "metadata": {},
   "outputs": [],
   "source": [
    "# Utvrđivanje lokacije podataka\n",
    "GOODBOOKS ='goodbooks_skup_podataka'\n",
    "KNJIGE = 'books.csv'\n",
    "OCJENE ='ratings.csv'\n",
    "OZNAKE_KNJIGA ='book_tags.csv'\n",
    "OZNAKE ='tags.csv'\n",
    "KNJIGE_ZA_CITANJE ='to_read.csv'\n",
    "# Čitanje datoteka \n",
    "books = pd.read_csv(os.path.join(GOODBOOKS, KNJIGE), \n",
    "                     encoding='utf-8')\n",
    "ratings = pd.read_csv(os.path.join(GOODBOOKS, OCJENE), \n",
    "                     encoding='utf-8')\n",
    "book_tags = pd.read_csv(os.path.join(GOODBOOKS,OZNAKE_KNJIGA),\n",
    "                    encoding='utf-8')\n",
    "tags = pd.read_csv(os.path.join(GOODBOOKS,OZNAKE),\n",
    "                    encoding='utf-8')\n",
    "to_read = pd.read_csv(os.path.join(GOODBOOKS,KNJIGE_ZA_CITANJE),\n",
    "                    encoding='utf-8')"
   ]
  },
  {
   "cell_type": "markdown",
   "metadata": {},
   "source": [
    "## Priprema i istraživanje podataka"
   ]
  },
  {
   "cell_type": "markdown",
   "metadata": {},
   "source": [
    "###  Knjige"
   ]
  },
  {
   "cell_type": "code",
   "execution_count": 4,
   "metadata": {},
   "outputs": [
    {
     "data": {
      "text/html": [
       "<div>\n",
       "<style scoped>\n",
       "    .dataframe tbody tr th:only-of-type {\n",
       "        vertical-align: middle;\n",
       "    }\n",
       "\n",
       "    .dataframe tbody tr th {\n",
       "        vertical-align: top;\n",
       "    }\n",
       "\n",
       "    .dataframe thead th {\n",
       "        text-align: right;\n",
       "    }\n",
       "</style>\n",
       "<table border=\"1\" class=\"dataframe\">\n",
       "  <thead>\n",
       "    <tr style=\"text-align: right;\">\n",
       "      <th></th>\n",
       "      <th>book_id</th>\n",
       "      <th>goodreads_book_id</th>\n",
       "      <th>best_book_id</th>\n",
       "      <th>work_id</th>\n",
       "      <th>books_count</th>\n",
       "      <th>isbn</th>\n",
       "      <th>isbn13</th>\n",
       "      <th>authors</th>\n",
       "      <th>original_publication_year</th>\n",
       "      <th>original_title</th>\n",
       "      <th>...</th>\n",
       "      <th>ratings_count</th>\n",
       "      <th>work_ratings_count</th>\n",
       "      <th>work_text_reviews_count</th>\n",
       "      <th>ratings_1</th>\n",
       "      <th>ratings_2</th>\n",
       "      <th>ratings_3</th>\n",
       "      <th>ratings_4</th>\n",
       "      <th>ratings_5</th>\n",
       "      <th>image_url</th>\n",
       "      <th>small_image_url</th>\n",
       "    </tr>\n",
       "  </thead>\n",
       "  <tbody>\n",
       "    <tr>\n",
       "      <td>0</td>\n",
       "      <td>1</td>\n",
       "      <td>2767052</td>\n",
       "      <td>2767052</td>\n",
       "      <td>2792775</td>\n",
       "      <td>272</td>\n",
       "      <td>439023483</td>\n",
       "      <td>9.780439e+12</td>\n",
       "      <td>Suzanne Collins</td>\n",
       "      <td>2008.0</td>\n",
       "      <td>The Hunger Games</td>\n",
       "      <td>...</td>\n",
       "      <td>4780653</td>\n",
       "      <td>4942365</td>\n",
       "      <td>155254</td>\n",
       "      <td>66715</td>\n",
       "      <td>127936</td>\n",
       "      <td>560092</td>\n",
       "      <td>1481305</td>\n",
       "      <td>2706317</td>\n",
       "      <td>https://images.gr-assets.com/books/1447303603m...</td>\n",
       "      <td>https://images.gr-assets.com/books/1447303603s...</td>\n",
       "    </tr>\n",
       "    <tr>\n",
       "      <td>1</td>\n",
       "      <td>2</td>\n",
       "      <td>3</td>\n",
       "      <td>3</td>\n",
       "      <td>4640799</td>\n",
       "      <td>491</td>\n",
       "      <td>439554934</td>\n",
       "      <td>9.780440e+12</td>\n",
       "      <td>J.K. Rowling, Mary GrandPré</td>\n",
       "      <td>1997.0</td>\n",
       "      <td>Harry Potter and the Philosopher's Stone</td>\n",
       "      <td>...</td>\n",
       "      <td>4602479</td>\n",
       "      <td>4800065</td>\n",
       "      <td>75867</td>\n",
       "      <td>75504</td>\n",
       "      <td>101676</td>\n",
       "      <td>455024</td>\n",
       "      <td>1156318</td>\n",
       "      <td>3011543</td>\n",
       "      <td>https://images.gr-assets.com/books/1474154022m...</td>\n",
       "      <td>https://images.gr-assets.com/books/1474154022s...</td>\n",
       "    </tr>\n",
       "    <tr>\n",
       "      <td>2</td>\n",
       "      <td>3</td>\n",
       "      <td>41865</td>\n",
       "      <td>41865</td>\n",
       "      <td>3212258</td>\n",
       "      <td>226</td>\n",
       "      <td>316015849</td>\n",
       "      <td>9.780316e+12</td>\n",
       "      <td>Stephenie Meyer</td>\n",
       "      <td>2005.0</td>\n",
       "      <td>Twilight</td>\n",
       "      <td>...</td>\n",
       "      <td>3866839</td>\n",
       "      <td>3916824</td>\n",
       "      <td>95009</td>\n",
       "      <td>456191</td>\n",
       "      <td>436802</td>\n",
       "      <td>793319</td>\n",
       "      <td>875073</td>\n",
       "      <td>1355439</td>\n",
       "      <td>https://images.gr-assets.com/books/1361039443m...</td>\n",
       "      <td>https://images.gr-assets.com/books/1361039443s...</td>\n",
       "    </tr>\n",
       "    <tr>\n",
       "      <td>3</td>\n",
       "      <td>4</td>\n",
       "      <td>2657</td>\n",
       "      <td>2657</td>\n",
       "      <td>3275794</td>\n",
       "      <td>487</td>\n",
       "      <td>61120081</td>\n",
       "      <td>9.780061e+12</td>\n",
       "      <td>Harper Lee</td>\n",
       "      <td>1960.0</td>\n",
       "      <td>To Kill a Mockingbird</td>\n",
       "      <td>...</td>\n",
       "      <td>3198671</td>\n",
       "      <td>3340896</td>\n",
       "      <td>72586</td>\n",
       "      <td>60427</td>\n",
       "      <td>117415</td>\n",
       "      <td>446835</td>\n",
       "      <td>1001952</td>\n",
       "      <td>1714267</td>\n",
       "      <td>https://images.gr-assets.com/books/1361975680m...</td>\n",
       "      <td>https://images.gr-assets.com/books/1361975680s...</td>\n",
       "    </tr>\n",
       "    <tr>\n",
       "      <td>4</td>\n",
       "      <td>5</td>\n",
       "      <td>4671</td>\n",
       "      <td>4671</td>\n",
       "      <td>245494</td>\n",
       "      <td>1356</td>\n",
       "      <td>743273567</td>\n",
       "      <td>9.780743e+12</td>\n",
       "      <td>F. Scott Fitzgerald</td>\n",
       "      <td>1925.0</td>\n",
       "      <td>The Great Gatsby</td>\n",
       "      <td>...</td>\n",
       "      <td>2683664</td>\n",
       "      <td>2773745</td>\n",
       "      <td>51992</td>\n",
       "      <td>86236</td>\n",
       "      <td>197621</td>\n",
       "      <td>606158</td>\n",
       "      <td>936012</td>\n",
       "      <td>947718</td>\n",
       "      <td>https://images.gr-assets.com/books/1490528560m...</td>\n",
       "      <td>https://images.gr-assets.com/books/1490528560s...</td>\n",
       "    </tr>\n",
       "  </tbody>\n",
       "</table>\n",
       "<p>5 rows × 23 columns</p>\n",
       "</div>"
      ],
      "text/plain": [
       "   book_id  goodreads_book_id  best_book_id  work_id  books_count       isbn  \\\n",
       "0        1            2767052       2767052  2792775          272  439023483   \n",
       "1        2                  3             3  4640799          491  439554934   \n",
       "2        3              41865         41865  3212258          226  316015849   \n",
       "3        4               2657          2657  3275794          487   61120081   \n",
       "4        5               4671          4671   245494         1356  743273567   \n",
       "\n",
       "         isbn13                      authors  original_publication_year  \\\n",
       "0  9.780439e+12              Suzanne Collins                     2008.0   \n",
       "1  9.780440e+12  J.K. Rowling, Mary GrandPré                     1997.0   \n",
       "2  9.780316e+12              Stephenie Meyer                     2005.0   \n",
       "3  9.780061e+12                   Harper Lee                     1960.0   \n",
       "4  9.780743e+12          F. Scott Fitzgerald                     1925.0   \n",
       "\n",
       "                             original_title  ... ratings_count  \\\n",
       "0                          The Hunger Games  ...       4780653   \n",
       "1  Harry Potter and the Philosopher's Stone  ...       4602479   \n",
       "2                                  Twilight  ...       3866839   \n",
       "3                     To Kill a Mockingbird  ...       3198671   \n",
       "4                          The Great Gatsby  ...       2683664   \n",
       "\n",
       "  work_ratings_count  work_text_reviews_count  ratings_1  ratings_2  \\\n",
       "0            4942365                   155254      66715     127936   \n",
       "1            4800065                    75867      75504     101676   \n",
       "2            3916824                    95009     456191     436802   \n",
       "3            3340896                    72586      60427     117415   \n",
       "4            2773745                    51992      86236     197621   \n",
       "\n",
       "   ratings_3  ratings_4  ratings_5  \\\n",
       "0     560092    1481305    2706317   \n",
       "1     455024    1156318    3011543   \n",
       "2     793319     875073    1355439   \n",
       "3     446835    1001952    1714267   \n",
       "4     606158     936012     947718   \n",
       "\n",
       "                                           image_url  \\\n",
       "0  https://images.gr-assets.com/books/1447303603m...   \n",
       "1  https://images.gr-assets.com/books/1474154022m...   \n",
       "2  https://images.gr-assets.com/books/1361039443m...   \n",
       "3  https://images.gr-assets.com/books/1361975680m...   \n",
       "4  https://images.gr-assets.com/books/1490528560m...   \n",
       "\n",
       "                                     small_image_url  \n",
       "0  https://images.gr-assets.com/books/1447303603s...  \n",
       "1  https://images.gr-assets.com/books/1474154022s...  \n",
       "2  https://images.gr-assets.com/books/1361039443s...  \n",
       "3  https://images.gr-assets.com/books/1361975680s...  \n",
       "4  https://images.gr-assets.com/books/1490528560s...  \n",
       "\n",
       "[5 rows x 23 columns]"
      ]
     },
     "execution_count": 4,
     "metadata": {},
     "output_type": "execute_result"
    }
   ],
   "source": [
    "# Provjera prvih 5 redova\n",
    "books.head()"
   ]
  },
  {
   "cell_type": "markdown",
   "metadata": {},
   "source": [
    "Knjige su razvrstane prema njihovoj popularnosti, po broju ocjena silaznim slijedom."
   ]
  },
  {
   "cell_type": "code",
   "execution_count": 5,
   "metadata": {
    "scrolled": true
   },
   "outputs": [
    {
     "data": {
      "text/plain": [
       "Index(['book_id', 'goodreads_book_id', 'best_book_id', 'work_id',\n",
       "       'books_count', 'isbn', 'isbn13', 'authors', 'original_publication_year',\n",
       "       'original_title', 'title', 'language_code', 'average_rating',\n",
       "       'ratings_count', 'work_ratings_count', 'work_text_reviews_count',\n",
       "       'ratings_1', 'ratings_2', 'ratings_3', 'ratings_4', 'ratings_5',\n",
       "       'image_url', 'small_image_url'],\n",
       "      dtype='object')"
      ]
     },
     "execution_count": 5,
     "metadata": {},
     "output_type": "execute_result"
    }
   ],
   "source": [
    "# Provjera kolona \n",
    "books.columns"
   ]
  },
  {
   "cell_type": "code",
   "execution_count": 6,
   "metadata": {},
   "outputs": [
    {
     "name": "stdout",
     "output_type": "stream",
     "text": [
      "<class 'pandas.core.frame.DataFrame'>\n",
      "RangeIndex: 10000 entries, 0 to 9999\n",
      "Data columns (total 23 columns):\n",
      "book_id                      10000 non-null int64\n",
      "goodreads_book_id            10000 non-null int64\n",
      "best_book_id                 10000 non-null int64\n",
      "work_id                      10000 non-null int64\n",
      "books_count                  10000 non-null int64\n",
      "isbn                         9300 non-null object\n",
      "isbn13                       9415 non-null float64\n",
      "authors                      10000 non-null object\n",
      "original_publication_year    9979 non-null float64\n",
      "original_title               9415 non-null object\n",
      "title                        10000 non-null object\n",
      "language_code                8916 non-null object\n",
      "average_rating               10000 non-null float64\n",
      "ratings_count                10000 non-null int64\n",
      "work_ratings_count           10000 non-null int64\n",
      "work_text_reviews_count      10000 non-null int64\n",
      "ratings_1                    10000 non-null int64\n",
      "ratings_2                    10000 non-null int64\n",
      "ratings_3                    10000 non-null int64\n",
      "ratings_4                    10000 non-null int64\n",
      "ratings_5                    10000 non-null int64\n",
      "image_url                    10000 non-null object\n",
      "small_image_url              10000 non-null object\n",
      "dtypes: float64(3), int64(13), object(7)\n",
      "memory usage: 1.8+ MB\n"
     ]
    }
   ],
   "source": [
    "# Provjera informacija\n",
    "books.info()"
   ]
  },
  {
   "cell_type": "markdown",
   "metadata": {},
   "source": [
    "Iz ovoga prikaza vidimo da imamo 10000 knjiga. Vidi se da podatci nisu baš očišćeni na adekvatan način, odnosno vidi se da neke vrijednosti nedostaju kod pojedinih atributa, a neke nisu potrebne za preporuku pa će se podatci očistiti  tako što će se ukloniti oni koji su nepotrebni i popuniti će se pojedine vrijednosti atributa koje nedostaju."
   ]
  },
  {
   "cell_type": "code",
   "execution_count": 7,
   "metadata": {},
   "outputs": [],
   "source": [
    "# Izbacuju se kolone koje su suvišne\n",
    "books = books.drop('isbn', 1) #1 je broj osi (0 za redove, a 1 za kolone)\n",
    "books = books.drop('isbn13', 1) \n",
    "books = books.drop('image_url', 1)\n",
    "books = books.drop('small_image_url', 1) \n",
    "\n",
    "# Popuniće se godine objavljivanja koje nedostaju s 1974. godinom \n",
    "books.original_publication_year = books.original_publication_year.fillna(1974) \n",
    "\n",
    "# Zamijeniće se originalni naslovi koji nedostaju s običnim naslovima \n",
    "books.original_title.fillna(books.title, inplace=True) \n",
    "\n",
    "# Zamijeniće se nedostajući jezici sa 'Unknown'\n",
    "books.language_code = books.language_code.fillna('Unknown')"
   ]
  },
  {
   "cell_type": "code",
   "execution_count": 8,
   "metadata": {},
   "outputs": [
    {
     "name": "stdout",
     "output_type": "stream",
     "text": [
      "<class 'pandas.core.frame.DataFrame'>\n",
      "RangeIndex: 10000 entries, 0 to 9999\n",
      "Data columns (total 19 columns):\n",
      "book_id                      10000 non-null int64\n",
      "goodreads_book_id            10000 non-null int64\n",
      "best_book_id                 10000 non-null int64\n",
      "work_id                      10000 non-null int64\n",
      "books_count                  10000 non-null int64\n",
      "authors                      10000 non-null object\n",
      "original_publication_year    10000 non-null float64\n",
      "original_title               10000 non-null object\n",
      "title                        10000 non-null object\n",
      "language_code                10000 non-null object\n",
      "average_rating               10000 non-null float64\n",
      "ratings_count                10000 non-null int64\n",
      "work_ratings_count           10000 non-null int64\n",
      "work_text_reviews_count      10000 non-null int64\n",
      "ratings_1                    10000 non-null int64\n",
      "ratings_2                    10000 non-null int64\n",
      "ratings_3                    10000 non-null int64\n",
      "ratings_4                    10000 non-null int64\n",
      "ratings_5                    10000 non-null int64\n",
      "dtypes: float64(2), int64(13), object(4)\n",
      "memory usage: 1.4+ MB\n"
     ]
    }
   ],
   "source": [
    "books.info()"
   ]
  },
  {
   "cell_type": "markdown",
   "metadata": {},
   "source": [
    "Sve je uredu. Informacije su poredane kako se očekivalo. Budući da je atribut autori presudan za izradu preporuke pokušat će se vidjeti koji su autori točno najpopularniji. Važno je za pretpostaviti da će knjige od istog autora biti uglavnom iste tematike. (neki autori većinom pišu samo Sci-Fi kao što je J. K. Rowling, serija Sci-Fi romana o Harry Potteru). "
   ]
  },
  {
   "cell_type": "code",
   "execution_count": 9,
   "metadata": {},
   "outputs": [
    {
     "data": {
      "image/png": "[encoded data removed]",
      "text/plain": [
       "<Figure size 864x432 with 1 Axes>"
      ]
     },
     "metadata": {
      "needs_background": "light"
     },
     "output_type": "display_data"
    }
   ],
   "source": [
    "# Seaborn je biblioteka za izradu statističke grafike u Pythonu. \n",
    "import seaborn as sns\n",
    "\n",
    "# Gleda prosječne ocjene veće od 4.3 \n",
    "high_rated_author = books[books['average_rating']>=4.3]\n",
    "\n",
    "# Grupira  prvih 5 autora po broju naslova  u opadajućem slijedu \n",
    "high_rated_author = high_rated_author.groupby('authors')['title'].count().reset_index().sort_values('title', ascending = False).head(5).set_index('authors')\n",
    "\n",
    "# Definicija veličine grafa \n",
    "plt.figure(figsize=(12,6))\n",
    "\n",
    "# Prikaz autora po naslovima označeni različitim bojama\n",
    "ax = sns.barplot(high_rated_author['title'], high_rated_author.index, palette='Set2')\n",
    "\n",
    "# Tekst na x- osi\n",
    "ax.set_xlabel(\"Number of Books\") \n",
    "\n",
    "# Tekst na y-osi\n",
    "ax.set_ylabel(\"Authors\")\n",
    "\n",
    "# ax.text - dodaje text na graf\n",
    "# i.get.width() -širina dodanog texta na grafu\n",
    "# i.get_y - pomjeranje prema dolje dodanog teksta na gradu\n",
    "\n",
    "for i in ax.patches:\n",
    "    ax.text(i.get_width()+0.3, i.get_y()+0.5, str(round(i.get_width())), fontsize = 10, color = 'k')\n"
   ]
  },
  {
   "cell_type": "markdown",
   "metadata": {},
   "source": [
    "Prvih 5 najpopularnijih autora s prosječnom ocjenom većom od 4.3 poredani po broju naslova u opadajućem redoslijedu: J.D.Robb, Kristen Ashley, Jim Butcher, J.R.Ward i Rick Riordan.  \n",
    "Napomena - Primjer koji se naveo je primjer jedne od najpopularnijih knjiga na svijetu, tj. svima poznatoj seriji knjiga da mogla lakše procijeniti vjerodostojnost sustava, međutim J.K. Rowling u ovom skupu podataka nema više visoko ocijenjenih knjiga  od gore navedenih autora pa nije na vrhu liste."
   ]
  },
  {
   "cell_type": "markdown",
   "metadata": {},
   "source": [
    "### Ocjene\n",
    "\n",
    "Datoteka sadrži korisnički id, id knjige i  ocjene sortirane vremenski (prvo najstarije). Ocjene su od 1 - 5. "
   ]
  },
  {
   "cell_type": "code",
   "execution_count": 10,
   "metadata": {},
   "outputs": [
    {
     "data": {
      "text/html": [
       "<div>\n",
       "<style scoped>\n",
       "    .dataframe tbody tr th:only-of-type {\n",
       "        vertical-align: middle;\n",
       "    }\n",
       "\n",
       "    .dataframe tbody tr th {\n",
       "        vertical-align: top;\n",
       "    }\n",
       "\n",
       "    .dataframe thead th {\n",
       "        text-align: right;\n",
       "    }\n",
       "</style>\n",
       "<table border=\"1\" class=\"dataframe\">\n",
       "  <thead>\n",
       "    <tr style=\"text-align: right;\">\n",
       "      <th></th>\n",
       "      <th>user_id</th>\n",
       "      <th>book_id</th>\n",
       "      <th>rating</th>\n",
       "    </tr>\n",
       "  </thead>\n",
       "  <tbody>\n",
       "    <tr>\n",
       "      <td>0</td>\n",
       "      <td>1</td>\n",
       "      <td>258</td>\n",
       "      <td>5</td>\n",
       "    </tr>\n",
       "    <tr>\n",
       "      <td>1</td>\n",
       "      <td>2</td>\n",
       "      <td>4081</td>\n",
       "      <td>4</td>\n",
       "    </tr>\n",
       "    <tr>\n",
       "      <td>2</td>\n",
       "      <td>2</td>\n",
       "      <td>260</td>\n",
       "      <td>5</td>\n",
       "    </tr>\n",
       "    <tr>\n",
       "      <td>3</td>\n",
       "      <td>2</td>\n",
       "      <td>9296</td>\n",
       "      <td>5</td>\n",
       "    </tr>\n",
       "    <tr>\n",
       "      <td>4</td>\n",
       "      <td>2</td>\n",
       "      <td>2318</td>\n",
       "      <td>3</td>\n",
       "    </tr>\n",
       "  </tbody>\n",
       "</table>\n",
       "</div>"
      ],
      "text/plain": [
       "   user_id  book_id  rating\n",
       "0        1      258       5\n",
       "1        2     4081       4\n",
       "2        2      260       5\n",
       "3        2     9296       5\n",
       "4        2     2318       3"
      ]
     },
     "execution_count": 10,
     "metadata": {},
     "output_type": "execute_result"
    }
   ],
   "source": [
    "# Provjera prvih 5 redova\n",
    "ratings.head()"
   ]
  },
  {
   "cell_type": "code",
   "execution_count": 11,
   "metadata": {},
   "outputs": [
    {
     "data": {
      "text/plain": [
       "(1, 5)"
      ]
     },
     "execution_count": 11,
     "metadata": {},
     "output_type": "execute_result"
    }
   ],
   "source": [
    "# Pregled minimalne i maksimalne ocjene \n",
    "ratings.rating.min(), ratings.rating.max()"
   ]
  },
  {
   "cell_type": "code",
   "execution_count": 12,
   "metadata": {},
   "outputs": [
    {
     "data": {
      "text/plain": [
       "Text(0.5, 1.0, 'Distribucija ocjena')"
      ]
     },
     "execution_count": 12,
     "metadata": {},
     "output_type": "execute_result"
    },
    {
     "data": {
      "image/png": "[encoded data removed]",
      "text/plain": [
       "<Figure size 432x288 with 1 Axes>"
      ]
     },
     "metadata": {},
     "output_type": "display_data"
    }
   ],
   "source": [
    "# set_style - funkcija koja utječe na stvari kao što je boja osi,i drugi \n",
    "# estetski elementi\n",
    "sns.set_style('white')\n",
    "sns.set(font_scale=1.5)\n",
    "\n",
    "# Pregled distribucije ocjena\n",
    "sns.distplot(ratings['rating'],color ='blue',bins=30).set_title('Distribucija ocjena')"
   ]
  },
  {
   "cell_type": "markdown",
   "metadata": {},
   "source": [
    "Ocjena 4 je prilično visoka ocjena, što znači da mnogi čitatelji imaju tendenciju da koncentriraju svoje ocjene na kraju ljestvice. Ovaj histogram to dokazuje ilustrirajući da je većina ocjena 3 ili veća i to bi moglo biti zato što čitatelji najčešće već znaju ono što im se sviđa i prema tome biraju knjige u kojima uživaju, zato što ne žele davati \"negativne ocjene\" ili su barem u jednom dijelu knjige uživali na neki način i prema tome im daju pretežno visoke ocjene."
   ]
  },
  {
   "cell_type": "code",
   "execution_count": 13,
   "metadata": {},
   "outputs": [
    {
     "name": "stdout",
     "output_type": "stream",
     "text": [
      "<class 'pandas.core.frame.DataFrame'>\n",
      "RangeIndex: 5976479 entries, 0 to 5976478\n",
      "Data columns (total 3 columns):\n",
      "user_id    int64\n",
      "book_id    int64\n",
      "rating     int64\n",
      "dtypes: int64(3)\n",
      "memory usage: 136.8 MB\n"
     ]
    }
   ],
   "source": [
    "# Provjera informacija \n",
    "ratings.info()"
   ]
  },
  {
   "cell_type": "markdown",
   "metadata": {},
   "source": [
    "Iz informacija o ocjenama zaključujemo se da ima oko 6000000 ocjena."
   ]
  },
  {
   "cell_type": "code",
   "execution_count": 17,
   "metadata": {},
   "outputs": [
    {
     "data": {
      "text/plain": [
       "53424"
      ]
     },
     "execution_count": 17,
     "metadata": {},
     "output_type": "execute_result"
    }
   ],
   "source": [
    "# Provjera broja korisnika\n",
    "ratings.user_id.max()"
   ]
  },
  {
   "cell_type": "markdown",
   "metadata": {},
   "source": [
    "Iz ovoga vidimo da imamo 53424 korisnika."
   ]
  },
  {
   "cell_type": "markdown",
   "metadata": {},
   "source": [
    "### Oznake knjiga\n",
    "\n",
    "Oznake u ovoj datoteci su predstavljene njihovim id - iovima. Sortirane su  uzlaznim redoslijedom s goodreads-id i count-om u silaznom redoslijedu. "
   ]
  },
  {
   "cell_type": "code",
   "execution_count": 15,
   "metadata": {},
   "outputs": [
    {
     "data": {
      "text/html": [
       "<div>\n",
       "<style scoped>\n",
       "    .dataframe tbody tr th:only-of-type {\n",
       "        vertical-align: middle;\n",
       "    }\n",
       "\n",
       "    .dataframe tbody tr th {\n",
       "        vertical-align: top;\n",
       "    }\n",
       "\n",
       "    .dataframe thead th {\n",
       "        text-align: right;\n",
       "    }\n",
       "</style>\n",
       "<table border=\"1\" class=\"dataframe\">\n",
       "  <thead>\n",
       "    <tr style=\"text-align: right;\">\n",
       "      <th></th>\n",
       "      <th>goodreads_book_id</th>\n",
       "      <th>tag_id</th>\n",
       "      <th>count</th>\n",
       "    </tr>\n",
       "  </thead>\n",
       "  <tbody>\n",
       "    <tr>\n",
       "      <td>0</td>\n",
       "      <td>1</td>\n",
       "      <td>30574</td>\n",
       "      <td>167697</td>\n",
       "    </tr>\n",
       "    <tr>\n",
       "      <td>1</td>\n",
       "      <td>1</td>\n",
       "      <td>11305</td>\n",
       "      <td>37174</td>\n",
       "    </tr>\n",
       "    <tr>\n",
       "      <td>2</td>\n",
       "      <td>1</td>\n",
       "      <td>11557</td>\n",
       "      <td>34173</td>\n",
       "    </tr>\n",
       "    <tr>\n",
       "      <td>3</td>\n",
       "      <td>1</td>\n",
       "      <td>8717</td>\n",
       "      <td>12986</td>\n",
       "    </tr>\n",
       "    <tr>\n",
       "      <td>4</td>\n",
       "      <td>1</td>\n",
       "      <td>33114</td>\n",
       "      <td>12716</td>\n",
       "    </tr>\n",
       "  </tbody>\n",
       "</table>\n",
       "</div>"
      ],
      "text/plain": [
       "   goodreads_book_id  tag_id   count\n",
       "0                  1   30574  167697\n",
       "1                  1   11305   37174\n",
       "2                  1   11557   34173\n",
       "3                  1    8717   12986\n",
       "4                  1   33114   12716"
      ]
     },
     "execution_count": 15,
     "metadata": {},
     "output_type": "execute_result"
    }
   ],
   "source": [
    "# Provjera prvih  5 redaka\n",
    "book_tags.head()"
   ]
  },
  {
   "cell_type": "code",
   "execution_count": 16,
   "metadata": {},
   "outputs": [
    {
     "name": "stdout",
     "output_type": "stream",
     "text": [
      "<class 'pandas.core.frame.DataFrame'>\n",
      "RangeIndex: 999912 entries, 0 to 999911\n",
      "Data columns (total 3 columns):\n",
      "goodreads_book_id    999912 non-null int64\n",
      "tag_id               999912 non-null int64\n",
      "count                999912 non-null int64\n",
      "dtypes: int64(3)\n",
      "memory usage: 22.9 MB\n"
     ]
    }
   ],
   "source": [
    "# Provjera informacija\n",
    "book_tags.info()"
   ]
  },
  {
   "cell_type": "markdown",
   "metadata": {},
   "source": [
    "### Oznake\n",
    "\n",
    "U ovoj datoteci se id prevode u imena. "
   ]
  },
  {
   "cell_type": "code",
   "execution_count": 17,
   "metadata": {},
   "outputs": [
    {
     "data": {
      "text/html": [
       "<div>\n",
       "<style scoped>\n",
       "    .dataframe tbody tr th:only-of-type {\n",
       "        vertical-align: middle;\n",
       "    }\n",
       "\n",
       "    .dataframe tbody tr th {\n",
       "        vertical-align: top;\n",
       "    }\n",
       "\n",
       "    .dataframe thead th {\n",
       "        text-align: right;\n",
       "    }\n",
       "</style>\n",
       "<table border=\"1\" class=\"dataframe\">\n",
       "  <thead>\n",
       "    <tr style=\"text-align: right;\">\n",
       "      <th></th>\n",
       "      <th>tag_id</th>\n",
       "      <th>tag_name</th>\n",
       "    </tr>\n",
       "  </thead>\n",
       "  <tbody>\n",
       "    <tr>\n",
       "      <td>34247</td>\n",
       "      <td>34247</td>\n",
       "      <td>Ｃhildrens</td>\n",
       "    </tr>\n",
       "    <tr>\n",
       "      <td>34248</td>\n",
       "      <td>34248</td>\n",
       "      <td>Ｆａｖｏｒｉｔｅｓ</td>\n",
       "    </tr>\n",
       "    <tr>\n",
       "      <td>34249</td>\n",
       "      <td>34249</td>\n",
       "      <td>Ｍａｎｇａ</td>\n",
       "    </tr>\n",
       "    <tr>\n",
       "      <td>34250</td>\n",
       "      <td>34250</td>\n",
       "      <td>ＳＥＲＩＥＳ</td>\n",
       "    </tr>\n",
       "    <tr>\n",
       "      <td>34251</td>\n",
       "      <td>34251</td>\n",
       "      <td>ｆａｖｏｕｒｉｔｅｓ</td>\n",
       "    </tr>\n",
       "  </tbody>\n",
       "</table>\n",
       "</div>"
      ],
      "text/plain": [
       "       tag_id    tag_name\n",
       "34247   34247   Ｃhildrens\n",
       "34248   34248   Ｆａｖｏｒｉｔｅｓ\n",
       "34249   34249       Ｍａｎｇａ\n",
       "34250   34250      ＳＥＲＩＥＳ\n",
       "34251   34251  ｆａｖｏｕｒｉｔｅｓ"
      ]
     },
     "execution_count": 17,
     "metadata": {},
     "output_type": "execute_result"
    }
   ],
   "source": [
    "#Provjera posljednjih 5 redova\n",
    "tags.tail()"
   ]
  },
  {
   "cell_type": "code",
   "execution_count": 18,
   "metadata": {},
   "outputs": [
    {
     "name": "stdout",
     "output_type": "stream",
     "text": [
      "<class 'pandas.core.frame.DataFrame'>\n",
      "RangeIndex: 34252 entries, 0 to 34251\n",
      "Data columns (total 2 columns):\n",
      "tag_id      34252 non-null int64\n",
      "tag_name    34252 non-null object\n",
      "dtypes: int64(1), object(1)\n",
      "memory usage: 535.3+ KB\n"
     ]
    }
   ],
   "source": [
    "# Provjera informacija\n",
    "tags.info()"
   ]
  },
  {
   "cell_type": "markdown",
   "metadata": {},
   "source": [
    "Imamo oko 34252 oznake / imena oznaka."
   ]
  },
  {
   "cell_type": "markdown",
   "metadata": {},
   "source": [
    "### Knjige  za čitanje\n",
    "\n",
    "Knjige koje su korisnici označili za čitanje . Ima blizu milijun parova."
   ]
  },
  {
   "cell_type": "code",
   "execution_count": 19,
   "metadata": {},
   "outputs": [
    {
     "data": {
      "text/html": [
       "<div>\n",
       "<style scoped>\n",
       "    .dataframe tbody tr th:only-of-type {\n",
       "        vertical-align: middle;\n",
       "    }\n",
       "\n",
       "    .dataframe tbody tr th {\n",
       "        vertical-align: top;\n",
       "    }\n",
       "\n",
       "    .dataframe thead th {\n",
       "        text-align: right;\n",
       "    }\n",
       "</style>\n",
       "<table border=\"1\" class=\"dataframe\">\n",
       "  <thead>\n",
       "    <tr style=\"text-align: right;\">\n",
       "      <th></th>\n",
       "      <th>user_id</th>\n",
       "      <th>book_id</th>\n",
       "    </tr>\n",
       "  </thead>\n",
       "  <tbody>\n",
       "    <tr>\n",
       "      <td>0</td>\n",
       "      <td>9</td>\n",
       "      <td>8</td>\n",
       "    </tr>\n",
       "    <tr>\n",
       "      <td>1</td>\n",
       "      <td>15</td>\n",
       "      <td>398</td>\n",
       "    </tr>\n",
       "    <tr>\n",
       "      <td>2</td>\n",
       "      <td>15</td>\n",
       "      <td>275</td>\n",
       "    </tr>\n",
       "    <tr>\n",
       "      <td>3</td>\n",
       "      <td>37</td>\n",
       "      <td>7173</td>\n",
       "    </tr>\n",
       "    <tr>\n",
       "      <td>4</td>\n",
       "      <td>34</td>\n",
       "      <td>380</td>\n",
       "    </tr>\n",
       "  </tbody>\n",
       "</table>\n",
       "</div>"
      ],
      "text/plain": [
       "   user_id  book_id\n",
       "0        9        8\n",
       "1       15      398\n",
       "2       15      275\n",
       "3       37     7173\n",
       "4       34      380"
      ]
     },
     "execution_count": 19,
     "metadata": {},
     "output_type": "execute_result"
    }
   ],
   "source": [
    "# Provjera prvih 5 redova\n",
    "to_read.head()"
   ]
  },
  {
   "cell_type": "code",
   "execution_count": 20,
   "metadata": {
    "scrolled": true
   },
   "outputs": [
    {
     "name": "stdout",
     "output_type": "stream",
     "text": [
      "<class 'pandas.core.frame.DataFrame'>\n",
      "RangeIndex: 912705 entries, 0 to 912704\n",
      "Data columns (total 2 columns):\n",
      "user_id    912705 non-null int64\n",
      "book_id    912705 non-null int64\n",
      "dtypes: int64(2)\n",
      "memory usage: 13.9 MB\n"
     ]
    }
   ],
   "source": [
    "# Provjera informacija\n",
    "to_read.info()"
   ]
  },
  {
   "cell_type": "markdown",
   "metadata": {},
   "source": [
    "## Osnovne vrste sustava preporuke"
   ]
  },
  {
   "cell_type": "markdown",
   "metadata": {},
   "source": [
    "### 1.) Temeljeni na sadržaju"
   ]
  },
  {
   "cell_type": "markdown",
   "metadata": {},
   "source": [
    "Filtriranje na temelju sadržaja jedna je od uobičajenih metoda za izgradnju\n",
    "sustava preporuke. Oni \"preporučuju\" personalizirani sadržaj na temelju \n",
    "korisničkih prošlih / trenutnih sklonosti za poboljšanje korisničkog iskustva. \n",
    "\n",
    "U sustavima preporuka na temelju sadržaja uzimaju se u obzir ključne riječi ili svojstva predmeta dok preporučuju predmet korisniku. Ukratko, to je poput preporučivanja sličnih stavki. Zamislite da čitate knjigu o vizualizaciji podataka i želite potražiti druge knjige na istu temu. U ovom bi slučaju sustav preporuka koji se temelji na sadržaju bio prikladan. "
   ]
  },
  {
   "cell_type": "markdown",
   "metadata": {},
   "source": [
    "### 2.) Sustavi temeljeni na suradnji / kolaborativno filtriranje"
   ]
  },
  {
   "cell_type": "markdown",
   "metadata": {},
   "source": [
    "Kolaborativno filtiranje je tehnika koja može filtrirati stavke koje bi se korisniku mogle svidjeti na temelju reakcija sličnih korisnika.Radi tako što pretražuje velike skupine korisnika i pronalazi manji set korisnika s  sličnim ukusima određenom korisniku. Pregledava stavke koje im se sviđaju i kombinira ih kako bi stvorio rangirani popis prijedloga.\n",
    "Mnogo je načina da se odluči koji su korisnici slični i da se kombiniraju njihovi izbori kako bi se stvorio popis preporuka. \n",
    "Dijeli se na kolaborativno filtriranje na temelju memorije i kolaborativno\n",
    "filtriranje na temelju modela.\n",
    "\n",
    "Za gradnju sustava preporuke izabrao se graditi sustav na temelju sadržaja."
   ]
  },
  {
   "cell_type": "markdown",
   "metadata": {},
   "source": [
    "## Sustav preporuke na temelju sadržaja"
   ]
  },
  {
   "cell_type": "markdown",
   "metadata": {},
   "source": [
    "### Teoretski dio"
   ]
  },
  {
   "cell_type": "markdown",
   "metadata": {},
   "source": [
    "Razmotrit će se bitni koncepti koji se koriste u gradnji sustava preporuke temeljen na sadržaju kao što su\n",
    "\n",
    "- TF-IDF (engl. term frequency-inverse document frequency)\n",
    "- Vecor Space Model\n",
    "- Cousine Similarity\n",
    "\n",
    "**TF-IDF** algoritam se upotrebljava za \"vaganje\" ključne riječi u bilo kojem dokumentu i  da se dodijeli važnost toj ključnoj riječi na temelju broja pojavljivanja u dokumentu. Jednostavno rečeno, što je veći TF-IDF rezultat (težina), to je rjeđi i važniji izraz, i obrnuto. TF-IDF pomaže u procjeni važnosti riječi u dokumentu.\n",
    "\n",
    "**TF – Term Frequency**\n",
    "TF (pojam učestalost) riječi je broj učestalosti u dokumentu. Kad to znate, možete vidjeti upotrebljavate li termin prečesto ili rijetko.\n",
    "\n",
    "TF (t) = (Broj pojavljivanja izraza t u dokumentu) / (Ukupan broj pojmova u dokumentu).\n",
    "\n",
    "**IDF (obrnuta učestalost dokumenta)** riječi mjerilo je koliko je značajan taj pojam u cijelom dokumentu. \n",
    "\n",
    "IDF (t) = log_e (Ukupan broj dokumenata / Broj dokumenata sa izrazom t u njemu). \n",
    "\n",
    "Primjer korištenja TD-IDF vektora možemo na primjeru je pretrage rezultata na Googleu za NBA košarkaške utakmice. Tu će riječi kao je/i češće  biti prisutne nego na primjer košarka/košarkaških, ali vjerodostojnija je važnost riječi košarka gledajući razlog / upit pretraživanja. U tim slučajevima će TF-IDF zanemariti riječi sa velikom učestalošću ponavljanja.\n",
    "\n",
    "<br>Formula za izračun TF-IDF:<br>\n",
    "![tf-idf](images/tf-idf.jpg)\n",
    "\n",
    "Sada kad se ima reprezentacija svake stavke u smislu njezina opisa onda se može izračunati relevantnost ili sličnost jednog dokumenta drugom. To će se uraditi pomoću Vector Space Model.\n",
    "\n",
    "**Vector Space Model**\n",
    "    \n",
    "U ovom je modelu svaka stavka je  pohranjena kao vektor njenih atributa (koji su ujedno i vektori) u <i>n-dimenzionalnom prostoru</i>, a <i>kutovi</i> između vektora izračunavaju se da bi se odredila <i>sličnost između vektora</i>.\n",
    "![documents_as_vectors](images/documents_as_vectors.jpg).\n",
    "<center>Dokumenti predstavljeni kao vektori.<br><br><center>\n",
    "\n",
    "Metoda izračuna korisnikovih  sviđanja ili ne sviđanja izračunava se uzimajući kosinus kuta između vektora korisničkog profila (Ui) i vektora dokumenta; ili u našem slučaju kut između dva vektora dokumenata.\n",
    "<i>Glavni razlog korištenja kosinusa je taj što će se vrijednost kosinusa povećavati kako se kut između vektora smanjuje, što znači više sličnosti</i>.\n",
    "Vektori se normaliziraju po dužini, nakon čega postaju vektori duljine 1.\n",
    "<br>Da bi izmjerili sličnost između vektora koristi se **Cousine Similarity** mjera sličnosti.<br>\n",
    "\n",
    "Cousine similarity je mjera sličnosti između dva ne-nulta vektora. Jedna od  zgodnijih stvari vektorske reprezentacije je da se sada može vidjeti koliko su dvije rečenice povezane na osnovu  kutovima njihovih vektora. Vrijednost kosinusa kreće se od -1 do 1.Dakle, ako dva vektora čine kut 0, tada bi vrijednost kosinusa bila 1, što bi zauzvrat značilo da su rečenice usko povezane jedna s drugom. Ako su dva vektora pravokutna, tj. Cos 90°, onda bi to značilo da rečenice gotovo nepovezane."
   ]
  },
  {
   "cell_type": "markdown",
   "metadata": {},
   "source": [
    "###  Građenje sustava preporuke\n"
   ]
  },
  {
   "cell_type": "markdown",
   "metadata": {},
   "source": [
    "Tekstualni podatci zahtijevaju specijalnu pripremu prije nego što se počnu koristiti za prediktivno modeliranje. Tekst se mora rastaviti da bi uklonili riječi takozvanom tokenizacijom. Nakon toga riječi u tekstu moraju se enkodirati kao integer ili float vrijednosti da bi se koristili kao ulaz za algoritme strojnog učenja, poznato kao vektorizacija.\n",
    "U Python-u, scikit-learn biblioteka pruža alate za lako izvođenje tokenizacije i vektorizacije tekstualnih podataka koje imate. Skicit learn daje 3 sheme koje se mogu koristiti. Jedan od njih je unaprijed izgrađeni TF-IDF vektorizator koji izračunava TF-IDF rezultat za opis svakog dokumenta, riječ po riječ. Rezultati su normalizirani na vrijednosti između 0 i 1, a kodirani vektori dokumenata tada se mogu izravno koristiti s većinom algoritama strojnog učenja.\n",
    "\n",
    "Sustav će se izgraditi na temelju sadržaja koji izračunava sličnost među knjigama na temelju autora knjiga. Preporučit ću knjige koje su slične zadanoj knjizi na temelju imena autora knjige. Koristit ću datoteku **books.csv.**\n",
    "    \n",
    "Ovom naredbom pretvaramo izvorne dokumente u matricu značajki TF-IDF. TfidfVectorizer funkcija iz scikit-learn, koja tekst pretvara u značajke vektora koji se mogu koristiti kao parametar pri procjeni i koja rezultat sprema u ovom slučaju varijablu tf.Fit_transform koristimo da bi se naš procjenitelj prilagodio podacima,i da transformiramo našu matricu brojanja u tf-idf \n",
    "reprezentaciju."
   ]
  },
  {
   "cell_type": "code",
   "execution_count": 22,
   "metadata": {},
   "outputs": [],
   "source": [
    "from sklearn.feature_extraction.text import TfidfVectorizer\n",
    "tf = TfidfVectorizer(analyzer='word',ngram_range=(1, 2),\n",
    "min_df=0, stop_words='english')\n",
    "tfidf_matrix = tf.fit_transform(books['authors'])"
   ]
  },
  {
   "cell_type": "markdown",
   "metadata": {},
   "source": [
    "Koristit će se Cosine similarity za izračunavanje numeričke vrijednosti koja označava sličnost dviju knjiga. Zbog korištenja TF-IDF vektorizatora izračunavanje Dot proizvoda će neposredno dati kosinusnu sličnost. Za izračun će se koristiti linear_krenel jer je mnogo brži. "
   ]
  },
  {
   "cell_type": "code",
   "execution_count": 23,
   "metadata": {},
   "outputs": [],
   "source": [
    "# Ovom naredbom se izračunava linear_kernel između x i y\n",
    "from sklearn.metrics.pairwise import linear_kernel\n",
    "cosine_sim = linear_kernel(tfidf_matrix, tfidf_matrix)"
   ]
  },
  {
   "cell_type": "code",
   "execution_count": 24,
   "metadata": {},
   "outputs": [
    {
     "data": {
      "text/plain": [
       "array([[1., 0., 0., ..., 0., 0., 0.],\n",
       "       [0., 1., 0., ..., 0., 0., 0.],\n",
       "       [0., 0., 1., ..., 0., 0., 0.],\n",
       "       ...,\n",
       "       [0., 0., 0., ..., 1., 0., 0.],\n",
       "       [0., 0., 0., ..., 0., 1., 0.],\n",
       "       [0., 0., 0., ..., 0., 0., 1.]])"
      ]
     },
     "execution_count": 24,
     "metadata": {},
     "output_type": "execute_result"
    }
   ],
   "source": [
    "cosine_sim"
   ]
  },
  {
   "cell_type": "markdown",
   "metadata": {},
   "source": [
    "Kad se izračuna i dobije matrica parova kosinusnih sličnosti napisat će se funkcija koja vraća 20 najsličnijih knjiga na temelju rezultata kosinusne sličnosti."
   ]
  },
  {
   "cell_type": "code",
   "execution_count": null,
   "metadata": {},
   "outputs": [],
   "source": [
    "# Kreiranje 1- dimenzionalnog niza sa naslovima knjiga\n",
    "titles = books['title']\n",
    "indices = pd.Series(books.index, index=books['title'])\n",
    "# Funkcija koja daje preporuku na temelju kosinusne sličnosti rezultata \n",
    "# autora knjiga\n",
    "def authors_recommendations(title):\n",
    "    idx = indices[title]\n",
    "    sim_scores = list(enumerate(cosine_sim[idx]))\n",
    "    sim_scores = sorted(sim_scores, key=lambda x: x[1], reverse=True)\n",
    "    sim_scores = sim_scores[1:21]\n",
    "    book_indices = [i[0] for i in sim_scores]\n",
    "    return titles.iloc[book_indices]"
   ]
  },
  {
   "cell_type": "markdown",
   "metadata": {},
   "source": [
    "Provjera preporuke."
   ]
  },
  {
   "cell_type": "code",
   "execution_count": 59,
   "metadata": {},
   "outputs": [
    {
     "data": {
      "text/plain": [
       "20      Harry Potter and the Order of the Phoenix (Har...\n",
       "22      Harry Potter and the Chamber of Secrets (Harry...\n",
       "23      Harry Potter and the Goblet of Fire (Harry Pot...\n",
       "24      Harry Potter and the Deathly Hallows (Harry Po...\n",
       "26      Harry Potter and the Half-Blood Prince (Harry ...\n",
       "2100    The Harry Potter Collection 1-4 (Harry Potter,...\n",
       "3274    Harry Potter Boxed Set, Books 1-5 (Harry Potte...\n",
       "17      Harry Potter and the Prisoner of Azkaban (Harr...\n",
       "341                                    The Casual Vacancy\n",
       "398                          The Tales of Beedle the Bard\n",
       "421              Harry Potter Boxset (Harry Potter, #1-7)\n",
       "3752         Harry Potter Collection (Harry Potter, #1-6)\n",
       "4640    Fantastic Beasts and Where to Find Them: The O...\n",
       "6140    Harry Potter and the Order of the Phoenix (Har...\n",
       "7522    Hogwarts: An Incomplete and Unreliable Guide (...\n",
       "9047    Harry Potter Schoolbooks Box Set: Two Classic ...\n",
       "6427    Short Stories from Hogwarts of Heroism, Hardsh...\n",
       "7442    Short Stories from Hogwarts of Power, Politics...\n",
       "252            The Cuckoo's Calling (Cormoran Strike, #1)\n",
       "694                    The Silkworm (Cormoran Strike, #2)\n",
       "Name: title, dtype: object"
      ]
     },
     "execution_count": 59,
     "metadata": {},
     "output_type": "execute_result"
    }
   ],
   "source": [
    "authors_recommendations(\"Harry Potter and the Sorcerer's Stone (Harry Potter, #1)\").head(20)"
   ]
  },
  {
   "cell_type": "code",
   "execution_count": 82,
   "metadata": {},
   "outputs": [
    {
     "data": {
      "text/plain": [
       "48                                New Moon (Twilight, #2)\n",
       "51                                 Eclipse (Twilight, #3)\n",
       "55                           Breaking Dawn (Twilight, #4)\n",
       "72                                The Host (The Host, #1)\n",
       "731     The Short Second Life of Bree Tanner: An Eclip...\n",
       "833                         Midnight Sun (Twilight, #1.5)\n",
       "1618    The Twilight Saga Complete Collection  (Twilig...\n",
       "2020             The Twilight Collection (Twilight, #1-3)\n",
       "4087    The Twilight Saga: The Official Illustrated Gu...\n",
       "5295                                          The Chemist\n",
       "3074    Twilight: The Graphic Novel, Vol. 1 (Twilight:...\n",
       "5244    Twilight: The Graphic Novel, Vol. 2  (Twilight...\n",
       "6581                        Bloody Jack (Bloody Jack, #1)\n",
       "991                    The Twilight Saga (Twilight, #1-4)\n",
       "5185                 Off to Be the Wizard (Magic 2.0, #1)\n",
       "9028                  Spell or High Water (Magic 2.0, #2)\n",
       "251                     Cinder (The Lunar Chronicles, #1)\n",
       "580                    Scarlet (The Lunar Chronicles, #2)\n",
       "773                      Cress (The Lunar Chronicles, #3)\n",
       "1352                    Winter (The Lunar Chronicles, #4)\n",
       "Name: title, dtype: object"
      ]
     },
     "execution_count": 82,
     "metadata": {},
     "output_type": "execute_result"
    }
   ],
   "source": [
    "authors_recommendations(\"Twilight (Twilight, #1)\").head(20)"
   ]
  },
  {
   "cell_type": "code",
   "execution_count": 43,
   "metadata": {},
   "outputs": [
    {
     "data": {
      "text/plain": [
       "838                              The Merchant of Venice\n",
       "153                                             Macbeth\n",
       "352                                             Othello\n",
       "713                                           King Lear\n",
       "772                             The Taming of the Shrew\n",
       "803                                         The Tempest\n",
       "854                                       Twelfth Night\n",
       "1884                                     As You Like It\n",
       "2208                                 The Complete Works\n",
       "6416                                  The Winter's Tale\n",
       "6529                                   Titus Andronicus\n",
       "6691                               The Comedy of Errors\n",
       "8895                                         Richard II\n",
       "8028             City of Stairs (The Divine Cities, #1)\n",
       "529                              Much Ado About Nothing\n",
       "3699                                        Richard III\n",
       "769                                       Julius Caesar\n",
       "554     Hamlet: Screenplay, Introduction And Film Diary\n",
       "7073      King Henry IV, Part 1 (Wars of the Roses, #2)\n",
       "1665                              Shakespeare's Sonnets\n",
       "Name: title, dtype: object"
      ]
     },
     "execution_count": 43,
     "metadata": {},
     "output_type": "execute_result"
    }
   ],
   "source": [
    "authors_recommendations('Romeo and Juliet').head(20)"
   ]
  },
  {
   "cell_type": "markdown",
   "metadata": {},
   "source": [
    "Kao što se vidi preporuke su prilično vjerodostojne za filmove **Harry Potter and the Sorcerer's Stone (Harry Potter, #1), Twilight (Twilight, #1) i Romeo and Juliet**. To se vidi za prvi film gdje sustav preporučuje veoma slične objekte prethodnima, serija knjiga o Harry Potteru što može biti zanimljivo korisnicima, ali isto tako ako može nam preporučiti i dosta drugačije objekte drugog žanra na primjer kao što je u ovom slučaju The Casual Vacancy to jest  sustav je preporučio žanr dramu, a ne Sci-Fi.\n",
    "\n",
    "Prednosti sadržajno bazirane preporuke:\n",
    "\n",
    "- Za razliku od kolaborativnog filtriranja  koje treba ocjenu drugih korisnika da bi pronašli sličnost među korisnicima i zatim dali prijedlog sadržajno bazirana preporuka mora analizirati samo objekte i profil korisnika radi preporuke.\n",
    "- Nema hladnog početka, novi objekti se mogu predložiti prije nego što ih ocijeni značajan broj korisnika.\n",
    "- Rezultati su vrlo relevantni. Budući da se preporuke na temelju sadržaja oslanjaju na karakteristike samih objekata, vjerojatno će biti vrlo relevantne za interese korisnika.\n",
    "- Ponekad može  preporučiti nove i specifične objekte.\n",
    "\n",
    "Nedostatci ovog pristupa su:\n",
    "\n",
    "- Filtriranje na temelju sadržaja ima problem prekomjerne specijalizacije, gdje bi korisnik mogao dobiti previše istih vrsta objekata (npr. Preporučiti sve filmove \"Gospodara prstenova\") i ne preporučiti drugačije stavke, ali ipak mogu biti zanimljive korisniku.\n",
    "- Ne uzima u obzir što drugi misle o objektu, tako da se mogu javiti preporuke za neku nisku kvalitetu predmeta."
   ]
  },
  {
   "cell_type": "markdown",
   "metadata": {},
   "source": [
    "## Zaključak \n",
    "Cilj ovog projekta je bio da se izgradi sadržajno baziran sustav preporuke knjiga koristeći Goodbooks skup podataka s oko 6 milijuna ocjena koje je napravilo oko 50 tisuća korisnika za 10 tisuća knjiga. Prvo se započelo s učitavanjem i istraživanjem podataka kako bi se otkrilo kakav utjecaj imaju na korisnikove ocjene. Nakon toga se razvo sustav preporuke temeljen na autorima knjiga. Vjerodostojnost preporuke se provjerila na primjeru tri filma."
   ]
  }
 ],
 "metadata": {
  "kernelspec": {
   "display_name": "Python 3",
   "language": "python",
   "name": "python3"
  },
  "language_info": {
   "codemirror_mode": {
    "name": "ipython",
    "version": 3
   },
   "file_extension": ".py",
   "mimetype": "text/x-python",
   "name": "python",
   "nbconvert_exporter": "python",
   "pygments_lexer": "ipython3",
   "version": "3.7.4"
  }
 },
 "nbformat": 4,
 "nbformat_minor": 2
}
